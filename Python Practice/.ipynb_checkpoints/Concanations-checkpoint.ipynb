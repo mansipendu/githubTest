{
 "cells": [
  {
   "cell_type": "code",
   "execution_count": 1,
   "id": "6968cc45",
   "metadata": {},
   "outputs": [],
   "source": [
    "name='Mansi'"
   ]
  },
  {
   "cell_type": "code",
   "execution_count": 2,
   "id": "272f6033",
   "metadata": {},
   "outputs": [
    {
     "data": {
      "text/plain": [
       "'Mansi'"
      ]
     },
     "execution_count": 2,
     "metadata": {},
     "output_type": "execute_result"
    }
   ],
   "source": [
    "name"
   ]
  },
  {
   "cell_type": "code",
   "execution_count": 11,
   "id": "5101ce92",
   "metadata": {},
   "outputs": [],
   "source": [
    "lastname = name[1:]"
   ]
  },
  {
   "cell_type": "code",
   "execution_count": 12,
   "id": "3711df9c",
   "metadata": {},
   "outputs": [
    {
     "data": {
      "text/plain": [
       "'ansi'"
      ]
     },
     "execution_count": 12,
     "metadata": {},
     "output_type": "execute_result"
    }
   ],
   "source": [
    "lastname"
   ]
  },
  {
   "cell_type": "code",
   "execution_count": 13,
   "id": "a9ec2c56",
   "metadata": {},
   "outputs": [
    {
     "data": {
      "text/plain": [
       "'pansi'"
      ]
     },
     "execution_count": 13,
     "metadata": {},
     "output_type": "execute_result"
    }
   ],
   "source": [
    "'p'+ lastname"
   ]
  },
  {
   "cell_type": "code",
   "execution_count": 16,
   "id": "25bea072",
   "metadata": {},
   "outputs": [],
   "source": [
    "x = 'Its a beauty'"
   ]
  },
  {
   "cell_type": "code",
   "execution_count": 17,
   "id": "a0de7d49",
   "metadata": {},
   "outputs": [
    {
     "data": {
      "text/plain": [
       "'Its a beauty'"
      ]
     },
     "execution_count": 17,
     "metadata": {},
     "output_type": "execute_result"
    }
   ],
   "source": [
    "x"
   ]
  },
  {
   "cell_type": "code",
   "execution_count": 25,
   "id": "b66fa6b6",
   "metadata": {},
   "outputs": [],
   "source": [
    "x = x + ' y name is mansi'"
   ]
  },
  {
   "cell_type": "code",
   "execution_count": 26,
   "id": "30902712",
   "metadata": {},
   "outputs": [
    {
     "data": {
      "text/plain": [
       "'Its a beautymy name is mansi y name is mansi y name is mansimy name is mansi'"
      ]
     },
     "execution_count": 26,
     "metadata": {},
     "output_type": "execute_result"
    }
   ],
   "source": [
    "x"
   ]
  },
  {
   "cell_type": "code",
   "execution_count": 27,
   "id": "e35eb207",
   "metadata": {},
   "outputs": [
    {
     "data": {
      "text/plain": [
       "['Its',\n",
       " 'a',\n",
       " 'beautymy',\n",
       " 'name',\n",
       " 'is',\n",
       " 'mansi',\n",
       " 'y',\n",
       " 'name',\n",
       " 'is',\n",
       " 'mansi',\n",
       " 'y',\n",
       " 'name',\n",
       " 'is',\n",
       " 'mansimy',\n",
       " 'name',\n",
       " 'is',\n",
       " 'mansi']"
      ]
     },
     "execution_count": 27,
     "metadata": {},
     "output_type": "execute_result"
    }
   ],
   "source": [
    "x.split()"
   ]
  },
  {
   "cell_type": "code",
   "execution_count": 36,
   "id": "a854075d",
   "metadata": {},
   "outputs": [
    {
     "name": "stdout",
     "output_type": "stream",
     "text": [
      "hello mansi welcome\n"
     ]
    }
   ],
   "source": [
    "print('hello mansi{}'.format(' welcome'))"
   ]
  },
  {
   "cell_type": "code",
   "execution_count": 38,
   "id": "a80b87d6",
   "metadata": {},
   "outputs": [
    {
     "name": "stdout",
     "output_type": "stream",
     "text": [
      "my name is mansi\n"
     ]
    }
   ],
   "source": [
    "print('my name is {}'.format('mansi'))"
   ]
  }
 ],
 "metadata": {
  "kernelspec": {
   "display_name": "Python 3 (ipykernel)",
   "language": "python",
   "name": "python3"
  },
  "language_info": {
   "codemirror_mode": {
    "name": "ipython",
    "version": 3
   },
   "file_extension": ".py",
   "mimetype": "text/x-python",
   "name": "python",
   "nbconvert_exporter": "python",
   "pygments_lexer": "ipython3",
   "version": "3.9.13"
  }
 },
 "nbformat": 4,
 "nbformat_minor": 5
}
