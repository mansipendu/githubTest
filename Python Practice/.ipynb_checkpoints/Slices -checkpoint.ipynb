{
 "cells": [
  {
   "cell_type": "code",
   "execution_count": 1,
   "id": "15fe02dc",
   "metadata": {},
   "outputs": [
    {
     "data": {
      "text/plain": [
       "'Hello i am mansi'"
      ]
     },
     "execution_count": 1,
     "metadata": {},
     "output_type": "execute_result"
    }
   ],
   "source": [
    "print('Hello i am mansi')"
   ]
  },
  {
   "cell_type": "code",
   "execution_count": 2,
   "id": "0af0116a",
   "metadata": {},
   "outputs": [
    {
     "data": {
      "text/plain": [
       "'Hello I am Paaravi'"
      ]
     },
     "execution_count": 2,
     "metadata": {},
     "output_type": "execute_result"
    }
   ],
   "source": [
    "\"Hello I am Paaravi\""
   ]
  },
  {
   "cell_type": "code",
   "execution_count": 5,
   "id": "db277ac6",
   "metadata": {},
   "outputs": [
    {
     "name": "stdout",
     "output_type": "stream",
     "text": [
      "Hello i am mansi\n",
      "Hello i am Paaravi\n"
     ]
    }
   ],
   "source": [
    "print(\"Hello i am mansi\")\n",
    "print(\"Hello i am Paaravi\")"
   ]
  },
  {
   "cell_type": "code",
   "execution_count": 8,
   "id": "9b9f04ea",
   "metadata": {},
   "outputs": [
    {
     "data": {
      "text/plain": [
       "'Hello i \\tmansi'"
      ]
     },
     "execution_count": 8,
     "metadata": {},
     "output_type": "execute_result"
    }
   ],
   "source": [
    "\"Hello i \\tmansi\""
   ]
  },
  {
   "cell_type": "code",
   "execution_count": null,
   "id": "1e8eb946",
   "metadata": {},
   "outputs": [],
   "source": []
  }
 ],
 "metadata": {
  "kernelspec": {
   "display_name": "Python 3 (ipykernel)",
   "language": "python",
   "name": "python3"
  },
  "language_info": {
   "codemirror_mode": {
    "name": "ipython",
    "version": 3
   },
   "file_extension": ".py",
   "mimetype": "text/x-python",
   "name": "python",
   "nbconvert_exporter": "python",
   "pygments_lexer": "ipython3",
   "version": "3.9.13"
  }
 },
 "nbformat": 4,
 "nbformat_minor": 5
}
