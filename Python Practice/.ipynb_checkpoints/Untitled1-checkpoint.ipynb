{
 "cells": [
  {
   "cell_type": "code",
   "execution_count": 91,
   "id": "46fd6fce",
   "metadata": {},
   "outputs": [],
   "source": [
    "mylist = ['','2','']"
   ]
  },
  {
   "cell_type": "code",
   "execution_count": 93,
   "id": "ceb6ca59",
   "metadata": {},
   "outputs": [
    {
     "data": {
      "text/plain": [
       "['2', '', '']"
      ]
     },
     "execution_count": 93,
     "metadata": {},
     "output_type": "execute_result"
    }
   ],
   "source": [
    "shuffle_list(mylist)"
   ]
  },
  {
   "cell_type": "code",
   "execution_count": 105,
   "id": "b34d430a",
   "metadata": {},
   "outputs": [],
   "source": [
    "def player_guess():\n",
    "    \n",
    "    guess = ''\n",
    "    \n",
    "    while guess not in ['0', '1', '2']:\n",
    "        guess = input('pick a number : 0,1,2')\n",
    "        \n",
    "    return int(guess)"
   ]
  },
  {
   "cell_type": "code",
   "execution_count": 106,
   "id": "1b9d8b85",
   "metadata": {},
   "outputs": [
    {
     "name": "stdout",
     "output_type": "stream",
     "text": [
      "pick a number : 0,1,21\n"
     ]
    },
    {
     "data": {
      "text/plain": [
       "1"
      ]
     },
     "execution_count": 106,
     "metadata": {},
     "output_type": "execute_result"
    }
   ],
   "source": [
    "player_guess()"
   ]
  },
  {
   "cell_type": "code",
   "execution_count": 107,
   "id": "95a7ec06",
   "metadata": {},
   "outputs": [
    {
     "name": "stdout",
     "output_type": "stream",
     "text": [
      "pick a number : 0,1,22\n"
     ]
    },
    {
     "data": {
      "text/plain": [
       "2"
      ]
     },
     "execution_count": 107,
     "metadata": {},
     "output_type": "execute_result"
    }
   ],
   "source": [
    "player_guess()"
   ]
  },
  {
   "cell_type": "code",
   "execution_count": 109,
   "id": "532f17e4",
   "metadata": {},
   "outputs": [
    {
     "name": "stdout",
     "output_type": "stream",
     "text": [
      "pick a number : 0,1,21\n"
     ]
    }
   ],
   "source": [
    "my_index = player_guess()"
   ]
  },
  {
   "cell_type": "code",
   "execution_count": 110,
   "id": "c146c5c6",
   "metadata": {},
   "outputs": [
    {
     "data": {
      "text/plain": [
       "1"
      ]
     },
     "execution_count": 110,
     "metadata": {},
     "output_type": "execute_result"
    }
   ],
   "source": [
    "my_index"
   ]
  },
  {
   "cell_type": "code",
   "execution_count": 99,
   "id": "2cc55fb3",
   "metadata": {},
   "outputs": [],
   "source": [
    "def check_guess(mylist,guess):\n",
    "    if mylist[guess] == '0':\n",
    "        print('correct!')\n",
    "    else:\n",
    "        print('wrong guess')\n",
    "        print(mylist)\n",
    "        "
   ]
  },
  {
   "cell_type": "code",
   "execution_count": 118,
   "id": "c1210cbb",
   "metadata": {},
   "outputs": [
    {
     "name": "stdout",
     "output_type": "stream",
     "text": [
      "pick a number : 0,1,20\n",
      "correct!\n"
     ]
    }
   ],
   "source": [
    "mylist = ['','0','']\n",
    "\n",
    "mixedup_list = shuffle_list(mylist)\n",
    "\n",
    "guess =  player_guess()\n",
    "\n",
    "check_guess(mixedup_list, guess)"
   ]
  },
  {
   "cell_type": "code",
   "execution_count": 1,
   "id": "89528dbe",
   "metadata": {},
   "outputs": [],
   "source": [
    "s = 'mansi'\n",
    "t = s.upper()"
   ]
  },
  {
   "cell_type": "code",
   "execution_count": 2,
   "id": "929e7f79",
   "metadata": {},
   "outputs": [
    {
     "name": "stdout",
     "output_type": "stream",
     "text": [
      "MANSI\n"
     ]
    }
   ],
   "source": [
    "print(t)"
   ]
  },
  {
   "cell_type": "code",
   "execution_count": 3,
   "id": "a8d2451e",
   "metadata": {},
   "outputs": [],
   "source": [
    "def square(num):\n",
    "    return num**2"
   ]
  },
  {
   "cell_type": "code",
   "execution_count": 4,
   "id": "c6cf821c",
   "metadata": {},
   "outputs": [],
   "source": [
    "my_nums = [1,2,3,4,5]"
   ]
  },
  {
   "cell_type": "code",
   "execution_count": 6,
   "id": "3c721922",
   "metadata": {},
   "outputs": [
    {
     "name": "stdout",
     "output_type": "stream",
     "text": [
      "1\n",
      "4\n",
      "9\n",
      "16\n",
      "25\n"
     ]
    }
   ],
   "source": [
    "for item in map(square,my_nums):\n",
    "    print(item)"
   ]
  },
  {
   "cell_type": "code",
   "execution_count": 7,
   "id": "06e67d2d",
   "metadata": {},
   "outputs": [
    {
     "data": {
      "text/plain": [
       "[1, 4, 9, 16, 25]"
      ]
     },
     "execution_count": 7,
     "metadata": {},
     "output_type": "execute_result"
    }
   ],
   "source": [
    "list(map(square,my_nums))"
   ]
  },
  {
   "cell_type": "code",
   "execution_count": 14,
   "id": "4c4e6046",
   "metadata": {},
   "outputs": [],
   "source": [
    "def splicer(myStrings):\n",
    "    if len(myStrings)%2 == 0:\n",
    "        return 'EVEN'\n",
    "    else:\n",
    "        return myStrings.upper()[0]"
   ]
  },
  {
   "cell_type": "code",
   "execution_count": 15,
   "id": "eba07683",
   "metadata": {},
   "outputs": [],
   "source": [
    "names = ['mansi','pRASHANT','VEDASHREE']"
   ]
  },
  {
   "cell_type": "code",
   "execution_count": 16,
   "id": "c3c20d5c",
   "metadata": {},
   "outputs": [
    {
     "data": {
      "text/plain": [
       "['M', 'EVEN', 'V']"
      ]
     },
     "execution_count": 16,
     "metadata": {},
     "output_type": "execute_result"
    }
   ],
   "source": [
    "list(map(splicer,names))"
   ]
  },
  {
   "cell_type": "code",
   "execution_count": 17,
   "id": "ddc8c896",
   "metadata": {},
   "outputs": [],
   "source": [
    "def check_evens(nums):\n",
    "    return nums%2 == 0"
   ]
  },
  {
   "cell_type": "code",
   "execution_count": 18,
   "id": "0eb7a13e",
   "metadata": {},
   "outputs": [],
   "source": [
    "mynum = [1,2,3,4,5]"
   ]
  },
  {
   "cell_type": "code",
   "execution_count": 20,
   "id": "3b4f0edb",
   "metadata": {},
   "outputs": [
    {
     "data": {
      "text/plain": [
       "<filter at 0x1198fb7beb0>"
      ]
     },
     "execution_count": 20,
     "metadata": {},
     "output_type": "execute_result"
    }
   ],
   "source": [
    "filter(check_evens,mynum)"
   ]
  },
  {
   "cell_type": "code",
   "execution_count": 21,
   "id": "32ae8c74",
   "metadata": {},
   "outputs": [
    {
     "data": {
      "text/plain": [
       "[2, 4]"
      ]
     },
     "execution_count": 21,
     "metadata": {},
     "output_type": "execute_result"
    }
   ],
   "source": [
    "list(filter(check_evens,mynum))"
   ]
  },
  {
   "cell_type": "code",
   "execution_count": 22,
   "id": "097e7898",
   "metadata": {},
   "outputs": [
    {
     "name": "stdout",
     "output_type": "stream",
     "text": [
      "2\n",
      "4\n"
     ]
    }
   ],
   "source": [
    "for n in filter(check_evens,mynum):\n",
    "    print(n)"
   ]
  },
  {
   "cell_type": "code",
   "execution_count": 30,
   "id": "f007e5ff",
   "metadata": {},
   "outputs": [],
   "source": [
    "def square(num):\n",
    "    result = num ** 2\n",
    "    return (result)"
   ]
  },
  {
   "cell_type": "code",
   "execution_count": null,
   "id": "1f9b0bd4",
   "metadata": {},
   "outputs": [],
   "source": []
  },
  {
   "cell_type": "code",
   "execution_count": null,
   "id": "2b5cab17",
   "metadata": {},
   "outputs": [],
   "source": []
  }
 ],
 "metadata": {
  "kernelspec": {
   "display_name": "Python 3 (ipykernel)",
   "language": "python",
   "name": "python3"
  },
  "language_info": {
   "codemirror_mode": {
    "name": "ipython",
    "version": 3
   },
   "file_extension": ".py",
   "mimetype": "text/x-python",
   "name": "python",
   "nbconvert_exporter": "python",
   "pygments_lexer": "ipython3",
   "version": "3.9.13"
  }
 },
 "nbformat": 4,
 "nbformat_minor": 5
}
