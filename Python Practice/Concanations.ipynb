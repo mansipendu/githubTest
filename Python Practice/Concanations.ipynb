{
 "cells": [
  {
   "cell_type": "code",
   "execution_count": 1,
   "id": "57f4e4fc",
   "metadata": {},
   "outputs": [],
   "source": [
    "name='Mansi'"
   ]
  },
  {
   "cell_type": "code",
   "execution_count": 2,
   "id": "90b5efa1",
   "metadata": {},
   "outputs": [
    {
     "data": {
      "text/plain": [
       "'Mansi'"
      ]
     },
     "execution_count": 2,
     "metadata": {},
     "output_type": "execute_result"
    }
   ],
   "source": [
    "name"
   ]
  },
  {
   "cell_type": "code",
   "execution_count": 11,
   "id": "5ea92495",
   "metadata": {},
   "outputs": [],
   "source": [
    "lastname = name[1:]"
   ]
  },
  {
   "cell_type": "code",
   "execution_count": 12,
   "id": "387e2340",
   "metadata": {},
   "outputs": [
    {
     "data": {
      "text/plain": [
       "'ansi'"
      ]
     },
     "execution_count": 12,
     "metadata": {},
     "output_type": "execute_result"
    }
   ],
   "source": [
    "lastname"
   ]
  },
  {
   "cell_type": "code",
   "execution_count": 13,
   "id": "f79327c2",
   "metadata": {},
   "outputs": [
    {
     "data": {
      "text/plain": [
       "'pansi'"
      ]
     },
     "execution_count": 13,
     "metadata": {},
     "output_type": "execute_result"
    }
   ],
   "source": [
    "'p'+ lastname"
   ]
  },
  {
   "cell_type": "code",
   "execution_count": 16,
   "id": "94dac951",
   "metadata": {},
   "outputs": [],
   "source": [
    "x = 'Its a beauty'"
   ]
  },
  {
   "cell_type": "code",
   "execution_count": 17,
   "id": "f2fa05b3",
   "metadata": {},
   "outputs": [
    {
     "data": {
      "text/plain": [
       "'Its a beauty'"
      ]
     },
     "execution_count": 17,
     "metadata": {},
     "output_type": "execute_result"
    }
   ],
   "source": [
    "x"
   ]
  },
  {
   "cell_type": "code",
   "execution_count": 25,
   "id": "cf25dc27",
   "metadata": {},
   "outputs": [],
   "source": [
    "x = x + ' y name is mansi'"
   ]
  },
  {
   "cell_type": "code",
   "execution_count": 26,
   "id": "6d9c9044",
   "metadata": {},
   "outputs": [
    {
     "data": {
      "text/plain": [
       "'Its a beautymy name is mansi y name is mansi y name is mansimy name is mansi'"
      ]
     },
     "execution_count": 26,
     "metadata": {},
     "output_type": "execute_result"
    }
   ],
   "source": [
    "x"
   ]
  },
  {
   "cell_type": "code",
   "execution_count": 27,
   "id": "cffce828",
   "metadata": {},
   "outputs": [
    {
     "data": {
      "text/plain": [
       "['Its',\n",
       " 'a',\n",
       " 'beautymy',\n",
       " 'name',\n",
       " 'is',\n",
       " 'mansi',\n",
       " 'y',\n",
       " 'name',\n",
       " 'is',\n",
       " 'mansi',\n",
       " 'y',\n",
       " 'name',\n",
       " 'is',\n",
       " 'mansimy',\n",
       " 'name',\n",
       " 'is',\n",
       " 'mansi']"
      ]
     },
     "execution_count": 27,
     "metadata": {},
     "output_type": "execute_result"
    }
   ],
   "source": [
    "x.split()"
   ]
  },
  {
   "cell_type": "code",
   "execution_count": 36,
   "id": "d1864f74",
   "metadata": {},
   "outputs": [
    {
     "name": "stdout",
     "output_type": "stream",
     "text": [
      "hello mansi welcome\n"
     ]
    }
   ],
   "source": [
    "print('hello mansi{}'.format(' welcome'))"
   ]
  },
  {
   "cell_type": "code",
   "execution_count": 38,
   "id": "c8789099",
   "metadata": {},
   "outputs": [
    {
     "name": "stdout",
     "output_type": "stream",
     "text": [
      "my name is mansi\n"
     ]
    }
   ],
   "source": [
    "print('my name is {}'.format('mansi'))"
   ]
  },
  {
   "cell_type": "code",
   "execution_count": 39,
   "id": "0639185c",
   "metadata": {},
   "outputs": [],
   "source": [
    "result = 100/7"
   ]
  },
  {
   "cell_type": "code",
   "execution_count": 40,
   "id": "1ae37ce4",
   "metadata": {},
   "outputs": [
    {
     "data": {
      "text/plain": [
       "14.285714285714286"
      ]
     },
     "execution_count": 40,
     "metadata": {},
     "output_type": "execute_result"
    }
   ],
   "source": [
    "result"
   ]
  },
  {
   "cell_type": "code",
   "execution_count": 45,
   "id": "586c5770",
   "metadata": {},
   "outputs": [
    {
     "name": "stdout",
     "output_type": "stream",
     "text": [
      "the result is                         14.286\n"
     ]
    }
   ],
   "source": [
    "print('the result is {r:30.3f}'.format(r=result))"
   ]
  },
  {
   "cell_type": "code",
   "execution_count": 49,
   "id": "5dcdeb02",
   "metadata": {},
   "outputs": [],
   "source": [
    "x = 'even number'\n",
    "age = 2"
   ]
  },
  {
   "cell_type": "code",
   "execution_count": 50,
   "id": "ac02c290",
   "metadata": {},
   "outputs": [
    {
     "data": {
      "text/plain": [
       "'even number'"
      ]
     },
     "execution_count": 50,
     "metadata": {},
     "output_type": "execute_result"
    }
   ],
   "source": [
    "x"
   ]
  },
  {
   "cell_type": "code",
   "execution_count": 54,
   "id": "3bbb26b0",
   "metadata": {},
   "outputs": [
    {
     "ename": "NameError",
     "evalue": "name 'age' is not defined",
     "output_type": "error",
     "traceback": [
      "\u001b[1;31m---------------------------------------------------------------------------\u001b[0m",
      "\u001b[1;31mNameError\u001b[0m                                 Traceback (most recent call last)",
      "\u001b[1;32m~\\AppData\\Local\\Temp\\ipykernel_19180\\124945166.py\u001b[0m in \u001b[0;36m<module>\u001b[1;34m\u001b[0m\n\u001b[1;32m----> 1\u001b[1;33m \u001b[0mprint\u001b[0m\u001b[1;33m(\u001b[0m\u001b[1;34mf'{age} is {x}'\u001b[0m\u001b[1;33m)\u001b[0m\u001b[1;33m\u001b[0m\u001b[1;33m\u001b[0m\u001b[0m\n\u001b[0m",
      "\u001b[1;31mNameError\u001b[0m: name 'age' is not defined"
     ]
    }
   ],
   "source": [
    "print(f'{age} is {x}')"
   ]
  },
  {
   "cell_type": "code",
   "execution_count": null,
   "id": "4b4e6713",
   "metadata": {},
   "outputs": [],
   "source": [
    "number = 2\n",
    "x = 'even number'"
   ]
  },
  {
   "cell_type": "code",
   "execution_count": 61,
   "id": "7fa1a0a6",
   "metadata": {},
   "outputs": [
    {
     "name": "stdout",
     "output_type": "stream",
     "text": [
      "2 is even number\n"
     ]
    }
   ],
   "source": [
    "print('2 is {}'.format(x))"
   ]
  },
  {
   "cell_type": "code",
   "execution_count": 74,
   "id": "9141ff65",
   "metadata": {},
   "outputs": [],
   "source": [
    "name = \"sam\"\n",
    "age = 54"
   ]
  },
  {
   "cell_type": "code",
   "execution_count": 75,
   "id": "e54bb066",
   "metadata": {},
   "outputs": [
    {
     "name": "stdout",
     "output_type": "stream",
     "text": [
      "sam is 54 years old\n"
     ]
    }
   ],
   "source": [
    "print(f'{name} is {age} years old')"
   ]
  },
  {
   "cell_type": "code",
   "execution_count": 76,
   "id": "0c731ba9",
   "metadata": {},
   "outputs": [],
   "source": [
    "name = \"My name is Mansi\""
   ]
  },
  {
   "cell_type": "code",
   "execution_count": 77,
   "id": "5c19d1f7",
   "metadata": {},
   "outputs": [
    {
     "data": {
      "text/plain": [
       "16"
      ]
     },
     "execution_count": 77,
     "metadata": {},
     "output_type": "execute_result"
    }
   ],
   "source": [
    "len(name)"
   ]
  },
  {
   "cell_type": "code",
   "execution_count": 93,
   "id": "1341d258",
   "metadata": {},
   "outputs": [],
   "source": [
    "name = ['one','two']"
   ]
  },
  {
   "cell_type": "code",
   "execution_count": 94,
   "id": "1220ca06",
   "metadata": {},
   "outputs": [
    {
     "data": {
      "text/plain": [
       "['one', 'two']"
      ]
     },
     "execution_count": 94,
     "metadata": {},
     "output_type": "execute_result"
    }
   ],
   "source": [
    "name"
   ]
  },
  {
   "cell_type": "code",
   "execution_count": 95,
   "id": "bca5a456",
   "metadata": {},
   "outputs": [],
   "source": []
  },
  {
   "cell_type": "code",
   "execution_count": 96,
   "id": "9b727104",
   "metadata": {},
   "outputs": [
    {
     "data": {
      "text/plain": [
       "['three', 'four']"
      ]
     },
     "execution_count": 96,
     "metadata": {},
     "output_type": "execute_result"
    }
   ],
   "source": []
  },
  {
   "cell_type": "code",
   "execution_count": 106,
   "id": "a8ab2bb6",
   "metadata": {},
   "outputs": [
    {
     "ename": "NameError",
     "evalue": "name 'new_listname' is not defined",
     "output_type": "error",
     "traceback": [
      "\u001b[1;31m---------------------------------------------------------------------------\u001b[0m",
      "\u001b[1;31mNameError\u001b[0m                                 Traceback (most recent call last)",
      "\u001b[1;32m~\\AppData\\Local\\Temp\\ipykernel_19180\\3534362612.py\u001b[0m in \u001b[0;36m<module>\u001b[1;34m\u001b[0m\n\u001b[1;32m----> 1\u001b[1;33m \u001b[0mnew_list\u001b[0m\u001b[1;33m=\u001b[0m\u001b[0mnew_listname\u001b[0m \u001b[1;33m+\u001b[0m \u001b[0manother_name\u001b[0m\u001b[1;33m\u001b[0m\u001b[1;33m\u001b[0m\u001b[0m\n\u001b[0m",
      "\u001b[1;31mNameError\u001b[0m: name 'new_listname' is not defined"
     ]
    }
   ],
   "source": []
  },
  {
   "cell_type": "code",
   "execution_count": 109,
   "id": "36ad8252",
   "metadata": {},
   "outputs": [],
   "source": [
    "my_list = ['one','two']"
   ]
  },
  {
   "cell_type": "code",
   "execution_count": 110,
   "id": "4efd4300",
   "metadata": {},
   "outputs": [
    {
     "data": {
      "text/plain": [
       "'one'"
      ]
     },
     "execution_count": 110,
     "metadata": {},
     "output_type": "execute_result"
    }
   ],
   "source": [
    "my_list[0]"
   ]
  },
  {
   "cell_type": "code",
   "execution_count": 111,
   "id": "748f17e9",
   "metadata": {},
   "outputs": [
    {
     "data": {
      "text/plain": [
       "['two']"
      ]
     },
     "execution_count": 111,
     "metadata": {},
     "output_type": "execute_result"
    }
   ],
   "source": [
    "my_list[1:]"
   ]
  },
  {
   "cell_type": "code",
   "execution_count": 112,
   "id": "e985685f",
   "metadata": {},
   "outputs": [],
   "source": [
    "another_list = ['three','four']"
   ]
  },
  {
   "cell_type": "code",
   "execution_count": 113,
   "id": "db6aa6bc",
   "metadata": {},
   "outputs": [
    {
     "data": {
      "text/plain": [
       "['three', 'four']"
      ]
     },
     "execution_count": 113,
     "metadata": {},
     "output_type": "execute_result"
    }
   ],
   "source": [
    "another_list"
   ]
  },
  {
   "cell_type": "code",
   "execution_count": 114,
   "id": "43ff55b6",
   "metadata": {},
   "outputs": [
    {
     "data": {
      "text/plain": [
       "['one', 'two', 'three', 'four']"
      ]
     },
     "execution_count": 114,
     "metadata": {},
     "output_type": "execute_result"
    }
   ],
   "source": [
    "new_list = my_list + another_list"
   ]
  },
  {
   "cell_type": "code",
   "execution_count": 115,
   "id": "8401eeba",
   "metadata": {},
   "outputs": [
    {
     "data": {
      "text/plain": [
       "['one', 'two', 'three', 'four']"
      ]
     },
     "execution_count": 115,
     "metadata": {},
     "output_type": "execute_result"
    }
   ],
   "source": [
    "new_list"
   ]
  },
  {
   "cell_type": "code",
   "execution_count": 116,
   "id": "2d015ed8",
   "metadata": {},
   "outputs": [],
   "source": [
    "new_list[1] = 'TWO IN ALL CAPS'"
   ]
  },
  {
   "cell_type": "code",
   "execution_count": 117,
   "id": "1cb63cbb",
   "metadata": {},
   "outputs": [
    {
     "data": {
      "text/plain": [
       "['one', 'TWO IN ALL CAPS', 'three', 'four']"
      ]
     },
     "execution_count": 117,
     "metadata": {},
     "output_type": "execute_result"
    }
   ],
   "source": [
    "new_list"
   ]
  },
  {
   "cell_type": "code",
   "execution_count": 118,
   "id": "918d37c2",
   "metadata": {},
   "outputs": [],
   "source": [
    "new_list.append('hello')"
   ]
  },
  {
   "cell_type": "code",
   "execution_count": 119,
   "id": "6227b6c2",
   "metadata": {},
   "outputs": [
    {
     "data": {
      "text/plain": [
       "['one', 'TWO IN ALL CAPS', 'three', 'four', 'hello']"
      ]
     },
     "execution_count": 119,
     "metadata": {},
     "output_type": "execute_result"
    }
   ],
   "source": [
    "new_list"
   ]
  },
  {
   "cell_type": "code",
   "execution_count": 120,
   "id": "1b03590a",
   "metadata": {},
   "outputs": [
    {
     "data": {
      "text/plain": [
       "'hello'"
      ]
     },
     "execution_count": 120,
     "metadata": {},
     "output_type": "execute_result"
    }
   ],
   "source": [
    "new_list.pop()"
   ]
  },
  {
   "cell_type": "code",
   "execution_count": 121,
   "id": "90e9a436",
   "metadata": {},
   "outputs": [
    {
     "data": {
      "text/plain": [
       "['one', 'TWO IN ALL CAPS', 'three', 'four']"
      ]
     },
     "execution_count": 121,
     "metadata": {},
     "output_type": "execute_result"
    }
   ],
   "source": [
    "new_list"
   ]
  },
  {
   "cell_type": "code",
   "execution_count": 125,
   "id": "0ecd64b1",
   "metadata": {},
   "outputs": [],
   "source": [
    "popped_item = new_list.pop(0)"
   ]
  },
  {
   "cell_type": "code",
   "execution_count": 126,
   "id": "28db9fd1",
   "metadata": {},
   "outputs": [
    {
     "data": {
      "text/plain": [
       "'one'"
      ]
     },
     "execution_count": 126,
     "metadata": {},
     "output_type": "execute_result"
    }
   ],
   "source": [
    "popped_item"
   ]
  },
  {
   "cell_type": "code",
   "execution_count": 127,
   "id": "78840c7c",
   "metadata": {},
   "outputs": [
    {
     "data": {
      "text/plain": [
       "['TWO IN ALL CAPS', 'three']"
      ]
     },
     "execution_count": 127,
     "metadata": {},
     "output_type": "execute_result"
    }
   ],
   "source": [
    "new_list"
   ]
  },
  {
   "cell_type": "code",
   "execution_count": 128,
   "id": "9e5fb9ca",
   "metadata": {},
   "outputs": [],
   "source": [
    "new_list = ['a','d','c','b']"
   ]
  },
  {
   "cell_type": "code",
   "execution_count": 129,
   "id": "8e7d6b2b",
   "metadata": {},
   "outputs": [],
   "source": [
    "new_list.sort()"
   ]
  },
  {
   "cell_type": "code",
   "execution_count": 130,
   "id": "f010e1d8",
   "metadata": {},
   "outputs": [
    {
     "data": {
      "text/plain": [
       "['a', 'b', 'c', 'd']"
      ]
     },
     "execution_count": 130,
     "metadata": {},
     "output_type": "execute_result"
    }
   ],
   "source": [
    "new_list"
   ]
  },
  {
   "cell_type": "code",
   "execution_count": 131,
   "id": "751c1e27",
   "metadata": {},
   "outputs": [],
   "source": [
    "num_list = [1,6,3,8]"
   ]
  },
  {
   "cell_type": "code",
   "execution_count": 132,
   "id": "d643f5e6",
   "metadata": {},
   "outputs": [],
   "source": [
    "num_list.sort()"
   ]
  },
  {
   "cell_type": "code",
   "execution_count": 133,
   "id": "bf81c9d8",
   "metadata": {},
   "outputs": [
    {
     "data": {
      "text/plain": [
       "[1, 3, 6, 8]"
      ]
     },
     "execution_count": 133,
     "metadata": {},
     "output_type": "execute_result"
    }
   ],
   "source": [
    "num_list"
   ]
  },
  {
   "cell_type": "code",
   "execution_count": 134,
   "id": "52f59371",
   "metadata": {},
   "outputs": [],
   "source": [
    "num_list.sort()\n",
    "new_sorted_list=num_list"
   ]
  },
  {
   "cell_type": "code",
   "execution_count": 135,
   "id": "6dee0d6e",
   "metadata": {},
   "outputs": [
    {
     "data": {
      "text/plain": [
       "[1, 3, 6, 8]"
      ]
     },
     "execution_count": 135,
     "metadata": {},
     "output_type": "execute_result"
    }
   ],
   "source": [
    "new_sorted_list"
   ]
  },
  {
   "cell_type": "code",
   "execution_count": 136,
   "id": "3cb72cea",
   "metadata": {},
   "outputs": [],
   "source": [
    "d = {'key1' : ['a','b','c']}"
   ]
  },
  {
   "cell_type": "code",
   "execution_count": 137,
   "id": "c0c8164e",
   "metadata": {},
   "outputs": [
    {
     "data": {
      "text/plain": [
       "{'key1': ['a', 'b', 'c']}"
      ]
     },
     "execution_count": 137,
     "metadata": {},
     "output_type": "execute_result"
    }
   ],
   "source": [
    "d"
   ]
  },
  {
   "cell_type": "code",
   "execution_count": 139,
   "id": "4ca77d1f",
   "metadata": {},
   "outputs": [
    {
     "data": {
      "text/plain": [
       "'C'"
      ]
     },
     "execution_count": 139,
     "metadata": {},
     "output_type": "execute_result"
    }
   ],
   "source": [
    "d['key1'][2].upper()"
   ]
  },
  {
   "cell_type": "code",
   "execution_count": 141,
   "id": "9b3dd580",
   "metadata": {},
   "outputs": [],
   "source": [
    "fruit_list = {'mangoes':200, 'apples':300}"
   ]
  },
  {
   "cell_type": "code",
   "execution_count": 142,
   "id": "862670a3",
   "metadata": {},
   "outputs": [
    {
     "data": {
      "text/plain": [
       "{'mangoes': 200, 'apples': 300}"
      ]
     },
     "execution_count": 142,
     "metadata": {},
     "output_type": "execute_result"
    }
   ],
   "source": [
    "fruit_list"
   ]
  },
  {
   "cell_type": "code",
   "execution_count": 143,
   "id": "0ddfbe4e",
   "metadata": {},
   "outputs": [
    {
     "data": {
      "text/plain": [
       "200"
      ]
     },
     "execution_count": 143,
     "metadata": {},
     "output_type": "execute_result"
    }
   ],
   "source": [
    "fruit_list['mangoes']"
   ]
  },
  {
   "cell_type": "code",
   "execution_count": 145,
   "id": "90eb2f81",
   "metadata": {},
   "outputs": [],
   "source": [
    "fruit_list['bananas'] = 400"
   ]
  },
  {
   "cell_type": "code",
   "execution_count": 146,
   "id": "62dd9a8b",
   "metadata": {},
   "outputs": [
    {
     "data": {
      "text/plain": [
       "{'mangoes': 200, 'apples': 300, 'bananas': 400}"
      ]
     },
     "execution_count": 146,
     "metadata": {},
     "output_type": "execute_result"
    }
   ],
   "source": [
    "fruit_list"
   ]
  },
  {
   "cell_type": "code",
   "execution_count": 6,
   "id": "4b71a7c1",
   "metadata": {},
   "outputs": [],
   "source": [
    "def myfunc(name):\n",
    "    \n",
    "    first_letter = name[0]\n",
    "    inbetween = name[1:4]\n",
    "    fifth_letter = name[4]\n",
    "    rest = name[5:]\n",
    "    \n",
    "    return first_letter + inbetween.upper() + fifth_letter + rest\n",
    "    "
   ]
  },
  {
   "cell_type": "code",
   "execution_count": 7,
   "id": "7ad978ff",
   "metadata": {},
   "outputs": [
    {
     "data": {
      "text/plain": [
       "'pRAShant'"
      ]
     },
     "execution_count": 7,
     "metadata": {},
     "output_type": "execute_result"
    }
   ],
   "source": [
    "myfunc('prashant')"
   ]
  },
  {
   "cell_type": "code",
   "execution_count": 9,
   "id": "c1db8fd4",
   "metadata": {},
   "outputs": [],
   "source": [
    "name = 'mansi'"
   ]
  },
  {
   "cell_type": "code",
   "execution_count": 11,
   "id": "5e8a4439",
   "metadata": {},
   "outputs": [],
   "source": [
    "mylist = [letter for letter in 'name']"
   ]
  },
  {
   "cell_type": "code",
   "execution_count": 12,
   "id": "eede72b4",
   "metadata": {},
   "outputs": [
    {
     "data": {
      "text/plain": [
       "['n', 'a', 'm', 'e']"
      ]
     },
     "execution_count": 12,
     "metadata": {},
     "output_type": "execute_result"
    }
   ],
   "source": [
    "mylist"
   ]
  },
  {
   "cell_type": "code",
   "execution_count": 15,
   "id": "027506df",
   "metadata": {},
   "outputs": [],
   "source": [
    "mylist = []\n",
    "\n",
    "for letter in name:\n",
    "    mylist.append(letter)"
   ]
  },
  {
   "cell_type": "code",
   "execution_count": 16,
   "id": "e89108cd",
   "metadata": {},
   "outputs": [
    {
     "data": {
      "text/plain": [
       "['m', 'a', 'n', 's', 'i']"
      ]
     },
     "execution_count": 16,
     "metadata": {},
     "output_type": "execute_result"
    }
   ],
   "source": [
    "mylist"
   ]
  },
  {
   "cell_type": "code",
   "execution_count": 8,
   "id": "88ebb454",
   "metadata": {},
   "outputs": [],
   "source": [
    "def my_func(char):\n",
    "    lowercase = 0\n",
    "    uppercase = 0\n",
    "    \n",
    "    for s in char:\n",
    "        if s.isupper():\n",
    "            uppercase += 1\n",
    "        elif s.islower():\n",
    "            lowercase += 1\n",
    "        else:\n",
    "            pass\n",
    "        \n",
    "    print(f'original string : {char}')\n",
    "    print(f'lowercase characters are : {lowercase}')\n",
    "    print(f'uppercase characters are : {uppercase}')"
   ]
  },
  {
   "cell_type": "code",
   "execution_count": 9,
   "id": "196b268e",
   "metadata": {},
   "outputs": [],
   "source": [
    "char = 'My name is Anthony Gonsalvis'"
   ]
  },
  {
   "cell_type": "code",
   "execution_count": 10,
   "id": "6a8390f8",
   "metadata": {},
   "outputs": [
    {
     "name": "stdout",
     "output_type": "stream",
     "text": [
      "original string : My name is Anthony Gonsalvis\n",
      "lowercase characters are : 21\n",
      "uppercase characters are : 3\n"
     ]
    }
   ],
   "source": [
    "my_func(char)"
   ]
  },
  {
   "cell_type": "code",
   "execution_count": null,
   "id": "8bc600a8",
   "metadata": {},
   "outputs": [],
   "source": []
  }
 ],
 "metadata": {
  "kernelspec": {
   "display_name": "Python 3 (ipykernel)",
   "language": "python",
   "name": "python3"
  },
  "language_info": {
   "codemirror_mode": {
    "name": "ipython",
    "version": 3
   },
   "file_extension": ".py",
   "mimetype": "text/x-python",
   "name": "python",
   "nbconvert_exporter": "python",
   "pygments_lexer": "ipython3",
   "version": "3.9.13"
  }
 },
 "nbformat": 4,
 "nbformat_minor": 5
}
