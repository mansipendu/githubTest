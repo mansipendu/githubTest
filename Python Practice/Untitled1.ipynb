{
 "cells": [
  {
   "cell_type": "code",
   "execution_count": 91,
   "id": "46fd6fce",
   "metadata": {},
   "outputs": [],
   "source": [
    "mylist = ['','2','']"
   ]
  },
  {
   "cell_type": "code",
   "execution_count": 93,
   "id": "ceb6ca59",
   "metadata": {},
   "outputs": [
    {
     "data": {
      "text/plain": [
       "['2', '', '']"
      ]
     },
     "execution_count": 93,
     "metadata": {},
     "output_type": "execute_result"
    }
   ],
   "source": [
    "shuffle_list(mylist)"
   ]
  },
  {
   "cell_type": "code",
   "execution_count": 105,
   "id": "b34d430a",
   "metadata": {},
   "outputs": [],
   "source": [
    "def player_guess():\n",
    "    \n",
    "    guess = ''\n",
    "    \n",
    "    while guess not in ['0', '1', '2']:\n",
    "        guess = input('pick a number : 0,1,2')\n",
    "        \n",
    "    return int(guess)"
   ]
  },
  {
   "cell_type": "code",
   "execution_count": 106,
   "id": "1b9d8b85",
   "metadata": {},
   "outputs": [
    {
     "name": "stdout",
     "output_type": "stream",
     "text": [
      "pick a number : 0,1,21\n"
     ]
    },
    {
     "data": {
      "text/plain": [
       "1"
      ]
     },
     "execution_count": 106,
     "metadata": {},
     "output_type": "execute_result"
    }
   ],
   "source": [
    "player_guess()"
   ]
  },
  {
   "cell_type": "code",
   "execution_count": 107,
   "id": "95a7ec06",
   "metadata": {},
   "outputs": [
    {
     "name": "stdout",
     "output_type": "stream",
     "text": [
      "pick a number : 0,1,22\n"
     ]
    },
    {
     "data": {
      "text/plain": [
       "2"
      ]
     },
     "execution_count": 107,
     "metadata": {},
     "output_type": "execute_result"
    }
   ],
   "source": [
    "player_guess()"
   ]
  },
  {
   "cell_type": "code",
   "execution_count": 109,
   "id": "532f17e4",
   "metadata": {},
   "outputs": [
    {
     "name": "stdout",
     "output_type": "stream",
     "text": [
      "pick a number : 0,1,21\n"
     ]
    }
   ],
   "source": [
    "my_index = player_guess()"
   ]
  },
  {
   "cell_type": "code",
   "execution_count": 110,
   "id": "c146c5c6",
   "metadata": {},
   "outputs": [
    {
     "data": {
      "text/plain": [
       "1"
      ]
     },
     "execution_count": 110,
     "metadata": {},
     "output_type": "execute_result"
    }
   ],
   "source": [
    "my_index"
   ]
  },
  {
   "cell_type": "code",
   "execution_count": 99,
   "id": "2cc55fb3",
   "metadata": {},
   "outputs": [],
   "source": [
    "def check_guess(mylist,guess):\n",
    "    if mylist[guess] == '0':\n",
    "        print('correct!')\n",
    "    else:\n",
    "        print('wrong guess')\n",
    "        print(mylist)\n",
    "        "
   ]
  },
  {
   "cell_type": "code",
   "execution_count": 118,
   "id": "c1210cbb",
   "metadata": {},
   "outputs": [
    {
     "name": "stdout",
     "output_type": "stream",
     "text": [
      "pick a number : 0,1,20\n",
      "correct!\n"
     ]
    }
   ],
   "source": [
    "mylist = ['','0','']\n",
    "\n",
    "mixedup_list = shuffle_list(mylist)\n",
    "\n",
    "guess =  player_guess()\n",
    "\n",
    "check_guess(mixedup_list, guess)"
   ]
  },
  {
   "cell_type": "code",
   "execution_count": 1,
   "id": "89528dbe",
   "metadata": {},
   "outputs": [],
   "source": [
    "s = 'mansi'\n",
    "t = s.upper()"
   ]
  },
  {
   "cell_type": "code",
   "execution_count": 2,
   "id": "bb44dd12",
   "metadata": {},
   "outputs": [
    {
     "name": "stdout",
     "output_type": "stream",
     "text": [
      "MANSI\n"
     ]
    }
   ],
   "source": [
    "print(t)"
   ]
  },
  {
   "cell_type": "code",
   "execution_count": 42,
   "id": "d58a35c0",
   "metadata": {},
   "outputs": [],
   "source": [
    "def square(num):return num**2"
   ]
  },
  {
   "cell_type": "code",
   "execution_count": 40,
   "id": "4aaa2fdd",
   "metadata": {},
   "outputs": [],
   "source": [
    "square = [1,2,3,4,5]"
   ]
  },
  {
   "cell_type": "code",
   "execution_count": 6,
   "id": "7b5bf380",
   "metadata": {},
   "outputs": [
    {
     "name": "stdout",
     "output_type": "stream",
     "text": [
      "1\n",
      "4\n",
      "9\n",
      "16\n",
      "25\n"
     ]
    }
   ],
   "source": [
    "for item in map(square,my_nums):\n",
    "    print(item)"
   ]
  },
  {
   "cell_type": "code",
   "execution_count": 7,
   "id": "e3b074e4",
   "metadata": {},
   "outputs": [
    {
     "data": {
      "text/plain": [
       "[1, 4, 9, 16, 25]"
      ]
     },
     "execution_count": 7,
     "metadata": {},
     "output_type": "execute_result"
    }
   ],
   "source": [
    "list(map(square,my_nums))"
   ]
  },
  {
   "cell_type": "code",
   "execution_count": 14,
   "id": "1d55c49d",
   "metadata": {},
   "outputs": [],
   "source": [
    "def splicer(myStrings):\n",
    "    if len(myStrings)%2 == 0:\n",
    "        return 'EVEN'\n",
    "    else:\n",
    "        return myStrings.upper()[0]"
   ]
  },
  {
   "cell_type": "code",
   "execution_count": 15,
   "id": "c6f45639",
   "metadata": {},
   "outputs": [],
   "source": [
    "names = ['mansi','pRASHANT','VEDASHREE']"
   ]
  },
  {
   "cell_type": "code",
   "execution_count": 16,
   "id": "30acd976",
   "metadata": {},
   "outputs": [
    {
     "data": {
      "text/plain": [
       "['M', 'EVEN', 'V']"
      ]
     },
     "execution_count": 16,
     "metadata": {},
     "output_type": "execute_result"
    }
   ],
   "source": [
    "list(map(splicer,names))"
   ]
  },
  {
   "cell_type": "code",
   "execution_count": 17,
   "id": "88d4682d",
   "metadata": {},
   "outputs": [],
   "source": [
    "def check_evens(nums):\n",
    "    return nums%2 == 0"
   ]
  },
  {
   "cell_type": "code",
   "execution_count": 18,
   "id": "64fa5426",
   "metadata": {},
   "outputs": [],
   "source": [
    "mynum = [1,2,3,4,5]"
   ]
  },
  {
   "cell_type": "code",
   "execution_count": 20,
   "id": "6673cb2c",
   "metadata": {},
   "outputs": [
    {
     "data": {
      "text/plain": [
       "<filter at 0x1198fb7beb0>"
      ]
     },
     "execution_count": 20,
     "metadata": {},
     "output_type": "execute_result"
    }
   ],
   "source": [
    "filter(check_evens,mynum)"
   ]
  },
  {
   "cell_type": "code",
   "execution_count": 21,
   "id": "c4cc3a32",
   "metadata": {},
   "outputs": [
    {
     "data": {
      "text/plain": [
       "[2, 4]"
      ]
     },
     "execution_count": 21,
     "metadata": {},
     "output_type": "execute_result"
    }
   ],
   "source": [
    "list(filter(check_evens,mynum))"
   ]
  },
  {
   "cell_type": "code",
   "execution_count": 22,
   "id": "c85d4cf0",
   "metadata": {},
   "outputs": [
    {
     "name": "stdout",
     "output_type": "stream",
     "text": [
      "2\n",
      "4\n"
     ]
    }
   ],
   "source": [
    "for n in filter(check_evens,mynum):\n",
    "    print(n)"
   ]
  },
  {
   "cell_type": "code",
   "execution_count": 37,
   "id": "19994b14",
   "metadata": {},
   "outputs": [],
   "source": [
    "lambda num:num ** 2"
   ]
  },
  {
   "cell_type": "code",
   "execution_count": 38,
   "id": "1ea5c70a",
   "metadata": {},
   "outputs": [
    {
     "data": {
      "text/plain": [
       "25"
      ]
     },
     "execution_count": 38,
     "metadata": {},
     "output_type": "execute_result"
    }
   ],
   "source": [
    "square(5)"
   ]
  },
  {
   "cell_type": "code",
   "execution_count": 47,
   "id": "76a6185b",
   "metadata": {},
   "outputs": [
    {
     "data": {
      "text/plain": [
       "[1, 4, 9, 16, 25]"
      ]
     },
     "execution_count": 47,
     "metadata": {},
     "output_type": "execute_result"
    }
   ],
   "source": [
    "list(map(lambda num:num**2,mynum))"
   ]
  },
  {
   "cell_type": "code",
   "execution_count": 50,
   "id": "83db8031",
   "metadata": {},
   "outputs": [
    {
     "data": {
      "text/plain": [
       "[2, 4]"
      ]
     },
     "execution_count": 50,
     "metadata": {},
     "output_type": "execute_result"
    }
   ],
   "source": [
    "list(filter(lambda nums:nums%2 == 0,mynum))"
   ]
  },
  {
   "cell_type": "code",
   "execution_count": 51,
   "id": "894b741e",
   "metadata": {},
   "outputs": [
    {
     "data": {
      "text/plain": [
       "['m', 'p', 'V']"
      ]
     },
     "execution_count": 51,
     "metadata": {},
     "output_type": "execute_result"
    }
   ],
   "source": [
    "list(map(lambda x:x[0],names))"
   ]
  },
  {
   "cell_type": "code",
   "execution_count": 64,
   "id": "7a4a540c",
   "metadata": {},
   "outputs": [],
   "source": [
    "def my_name(word):\n",
    "    return word[2]"
   ]
  },
  {
   "cell_type": "code",
   "execution_count": 10,
   "id": "9f05c955",
   "metadata": {},
   "outputs": [],
   "source": [
    "x = 40\n",
    "\n",
    "def func():\n",
    "    global x\n",
    "    print(f'The value of {x}')\n",
    "    \n",
    "    x = 3\n",
    "    print(f'this is the new value of x to {x}')\n",
    "    "
   ]
  },
  {
   "cell_type": "code",
   "execution_count": 11,
   "id": "459f378d",
   "metadata": {},
   "outputs": [
    {
     "name": "stdout",
     "output_type": "stream",
     "text": [
      "40\n"
     ]
    }
   ],
   "source": [
    "print(x)"
   ]
  },
  {
   "cell_type": "code",
   "execution_count": 12,
   "id": "528f8e0d",
   "metadata": {},
   "outputs": [
    {
     "name": "stdout",
     "output_type": "stream",
     "text": [
      "The value of 40\n",
      "this is the new value of x to 3\n"
     ]
    }
   ],
   "source": [
    "func()"
   ]
  },
  {
   "cell_type": "code",
   "execution_count": 27,
   "id": "ffd3b45c",
   "metadata": {},
   "outputs": [],
   "source": [
    "x = 'mansi'\n",
    "\n",
    "def func(x):\n",
    "    \n",
    "    print(f'my name is {x}')\n",
    "    \n",
    "    x = 'mansi'\n",
    "    print(f'my sisters name is {x}')\n",
    "    return x"
   ]
  },
  {
   "cell_type": "code",
   "execution_count": 28,
   "id": "13b770f0",
   "metadata": {},
   "outputs": [
    {
     "name": "stdout",
     "output_type": "stream",
     "text": [
      "mansi\n"
     ]
    }
   ],
   "source": [
    "print(x)"
   ]
  },
  {
   "cell_type": "code",
   "execution_count": 30,
   "id": "7e1a1311",
   "metadata": {},
   "outputs": [
    {
     "name": "stdout",
     "output_type": "stream",
     "text": [
      "my name is mansi\n",
      "my sisters name is mansi\n"
     ]
    }
   ],
   "source": [
    "x = func(x)"
   ]
  },
  {
   "cell_type": "code",
   "execution_count": 32,
   "id": "bd04a4f7",
   "metadata": {},
   "outputs": [
    {
     "data": {
      "text/plain": [
       "'mansi'"
      ]
     },
     "execution_count": 32,
     "metadata": {},
     "output_type": "execute_result"
    }
   ],
   "source": [
    "x"
   ]
  },
  {
   "cell_type": "code",
   "execution_count": null,
   "id": "6c7e8577",
   "metadata": {},
   "outputs": [],
   "source": []
  }
 ],
 "metadata": {
  "kernelspec": {
   "display_name": "Python 3 (ipykernel)",
   "language": "python",
   "name": "python3"
  },
  "language_info": {
   "codemirror_mode": {
    "name": "ipython",
    "version": 3
   },
   "file_extension": ".py",
   "mimetype": "text/x-python",
   "name": "python",
   "nbconvert_exporter": "python",
   "pygments_lexer": "ipython3",
   "version": "3.9.13"
  }
 },
 "nbformat": 4,
 "nbformat_minor": 5
}
